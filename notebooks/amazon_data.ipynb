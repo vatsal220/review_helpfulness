{
 "cells": [
  {
   "cell_type": "markdown",
   "metadata": {},
   "source": [
    "# Amazon Data"
   ]
  },
  {
   "cell_type": "code",
   "execution_count": 1,
   "metadata": {},
   "outputs": [],
   "source": [
    "'''\n",
    "This notebook will explore the retreival and preprocessing of amazon data\n",
    "for modelling purposes\n",
    "'''\n",
    "\n",
    "import os\n",
    "import json\n",
    "import gzip\n",
    "import numpy as np\n",
    "import pandas as pd\n",
    "import datetime\n",
    "import nltk\n",
    "import string\n",
    "import re\n",
    "\n",
    "from nltk.corpus import stopwords\n",
    "from urllib.request import urlopen"
   ]
  },
  {
   "cell_type": "code",
   "execution_count": 2,
   "metadata": {},
   "outputs": [],
   "source": [
    "# constants\n",
    "base_path = os.path.expanduser('~') + '/'\n",
    "current_year = int(datetime.datetime.now().year)\n",
    "\n",
    "sw = stopwords.words(\"english\")\n",
    "stop_words = [w.lower() for w in sw]"
   ]
  },
  {
   "cell_type": "code",
   "execution_count": 3,
   "metadata": {},
   "outputs": [],
   "source": [
    "def load_data(d_path = 'meta_Computers.json.gz'):\n",
    "    '''\n",
    "    This function will load the Amazon data, store it into a dataframe and return the df\n",
    "    '''\n",
    "    \n",
    "    data = []\n",
    "    counter = 0\n",
    "    with gzip.open(d_path) as f:\n",
    "        for i,l in enumerate(f):\n",
    "            data.append(json.loads(l.strip()))\n",
    "            counter += 1\n",
    "            \n",
    "    df = pd.DataFrame.from_dict(data)\n",
    "    return df"
   ]
  },
  {
   "cell_type": "markdown",
   "metadata": {},
   "source": [
    "## Import Data"
   ]
  },
  {
   "cell_type": "code",
   "execution_count": 4,
   "metadata": {},
   "outputs": [
    {
     "name": "stdout",
     "output_type": "stream",
     "text": [
      "CPU times: user 50.3 s, sys: 5.18 s, total: 55.5 s\n",
      "Wall time: 56.9 s\n"
     ]
    }
   ],
   "source": [
    "%time vg_df = load_data(base_path + 'Downloads/Video_Games.json.gz')"
   ]
  },
  {
   "cell_type": "code",
   "execution_count": 5,
   "metadata": {},
   "outputs": [
    {
     "name": "stdout",
     "output_type": "stream",
     "text": [
      "CPU times: user 4.34 s, sys: 77.5 ms, total: 4.42 s\n",
      "Wall time: 4.42 s\n"
     ]
    }
   ],
   "source": [
    "%time vg_meta_df = load_data(base_path + 'Downloads/meta_Video_Games.json.gz')"
   ]
  },
  {
   "cell_type": "markdown",
   "metadata": {},
   "source": [
    "## Data Overview\n",
    "**VG Reviews Data**\n",
    "- reviewerID - ID of the reviewer, e.g. A2SUAM1J3GNN3B\n",
    "- asin - ID of the product, e.g. 0000013714\n",
    "- reviewerName - name of the reviewer\n",
    "- vote - helpful votes of the review\n",
    "- style - a disctionary of the product metadata, e.g., \"Format\" is \"Hardcover\"\n",
    "- reviewText - text of the review\n",
    "- overall - rating of the product\n",
    "- summary - summary of the review\n",
    "- unixReviewTime - time of the review (unix time)\n",
    "- reviewTime - time of the review (raw)\n",
    "- image - images that users post after they have received the product\n",
    "\n",
    "**VG Meta**\n",
    "- asin - ID of the product, e.g. 0000031852\n",
    "- title - name of the product\n",
    "- feature - bullet-point format features of the product\n",
    "- description - description of the product\n",
    "- price - price in US dollars (at time of crawl)\n",
    "- image - url of the product image\n",
    "- also_view - other similar products viewed\n",
    "- also_buy - other similar products bought\n",
    "- salesRank - sales rank information\n",
    "- brand - brand name\n",
    "- similar_item - list of similar items\n",
    "- categories - list of categories the product belongs to\n",
    "- tech1 - the first technical detail table of the product\n",
    "- tech2 - the second technical detail table of the product\n",
    "- similar - similar product table"
   ]
  },
  {
   "cell_type": "code",
   "execution_count": 6,
   "metadata": {},
   "outputs": [],
   "source": [
    "vg = pd.merge(vg_meta_df, vg_df, on = 'asin', how = 'inner', suffixes = ('_meta', ''))"
   ]
  },
  {
   "cell_type": "code",
   "execution_count": 7,
   "metadata": {},
   "outputs": [
    {
     "data": {
      "text/plain": [
       "(2844569, 29)"
      ]
     },
     "execution_count": 7,
     "metadata": {},
     "output_type": "execute_result"
    }
   ],
   "source": [
    "vg.shape"
   ]
  },
  {
   "cell_type": "code",
   "execution_count": 8,
   "metadata": {},
   "outputs": [],
   "source": [
    "# remomve unneccessary columns\n",
    "drop_cols = ['tech1', 'tech2', 'fit', 'feature']\n",
    "vg = vg.drop(columns = drop_cols)"
   ]
  },
  {
   "cell_type": "markdown",
   "metadata": {},
   "source": [
    "## Preprocess Data"
   ]
  },
  {
   "cell_type": "code",
   "execution_count": 9,
   "metadata": {},
   "outputs": [],
   "source": [
    "d = vg.copy()"
   ]
  },
  {
   "cell_type": "code",
   "execution_count": 10,
   "metadata": {},
   "outputs": [],
   "source": [
    "# convert verified column from True/False --> 1 / 0\n",
    "d['verified'] = d['verified'] * 1"
   ]
  },
  {
   "cell_type": "code",
   "execution_count": 11,
   "metadata": {},
   "outputs": [],
   "source": [
    "def convert_vote(x):\n",
    "    '''\n",
    "    This function will convert the vote category from a string to int\n",
    "    '''\n",
    "    \n",
    "    vote = int(''.join(str(x).split(',')))\n",
    "    return vote "
   ]
  },
  {
   "cell_type": "code",
   "execution_count": 12,
   "metadata": {},
   "outputs": [],
   "source": [
    "# if no votes are available then replace them with 0 \n",
    "d['vote'].fillna(0, inplace = True)"
   ]
  },
  {
   "cell_type": "code",
   "execution_count": 13,
   "metadata": {},
   "outputs": [
    {
     "name": "stdout",
     "output_type": "stream",
     "text": [
      "CPU times: user 5.58 s, sys: 260 ms, total: 5.84 s\n",
      "Wall time: 4.45 s\n"
     ]
    }
   ],
   "source": [
    "%%time \n",
    "\n",
    "# converting votes to integers\n",
    "d['vote'] = d['vote'].apply(lambda x : convert_vote(x))"
   ]
  },
  {
   "cell_type": "code",
   "execution_count": 14,
   "metadata": {},
   "outputs": [],
   "source": [
    "def valid_image(image_list):\n",
    "    '''\n",
    "    This function will return list of 1's and 0's where 1's represent if a\n",
    "    link to an image appeast for that iteration in the input, 0 otherewise\n",
    "    '''\n",
    "    \n",
    "    valid_images = []\n",
    "    for i in image_list:\n",
    "        if type(i) == list:\n",
    "            valid_images.append(1)\n",
    "        else:\n",
    "            valid_images.append(0)\n",
    "    return valid_images"
   ]
  },
  {
   "cell_type": "code",
   "execution_count": 15,
   "metadata": {},
   "outputs": [
    {
     "name": "stdout",
     "output_type": "stream",
     "text": [
      "CPU times: user 875 ms, sys: 20 ms, total: 895 ms\n",
      "Wall time: 894 ms\n"
     ]
    }
   ],
   "source": [
    "%time d['valid_image'] = valid_image(d.image.values)"
   ]
  },
  {
   "cell_type": "code",
   "execution_count": 16,
   "metadata": {},
   "outputs": [],
   "source": [
    "def parse_review_year(row):\n",
    "    '''\n",
    "    This function will parse the review year from the\n",
    "    reviewTime column in the dataframe\n",
    "    '''\n",
    "    return int(row.split(' ')[-1])"
   ]
  },
  {
   "cell_type": "code",
   "execution_count": 17,
   "metadata": {},
   "outputs": [
    {
     "name": "stdout",
     "output_type": "stream",
     "text": [
      "CPU times: user 2.39 s, sys: 22 ms, total: 2.41 s\n",
      "Wall time: 2.38 s\n"
     ]
    }
   ],
   "source": [
    "%time d['review_year'] = d['reviewTime'].apply(lambda x : parse_review_year(x))"
   ]
  },
  {
   "cell_type": "code",
   "execution_count": 18,
   "metadata": {},
   "outputs": [],
   "source": [
    "# identify how many years old is the review\n",
    "d['time_since_review'] = current_year - d['review_year']"
   ]
  },
  {
   "cell_type": "code",
   "execution_count": 19,
   "metadata": {},
   "outputs": [],
   "source": [
    "def word_count(row, stopwords = stop_words):\n",
    "    '''\n",
    "    This function will remove stopwords from the review and count the unqie\n",
    "    remainning words\n",
    "    '''\n",
    "    row = str(row).lower().translate(str.maketrans('', '', string.punctuation)) # removes punctuation\n",
    "    words = row.split(' ')\n",
    "    word_count = len(set(words) - set(stopwords))\n",
    "    return word_count"
   ]
  },
  {
   "cell_type": "code",
   "execution_count": 20,
   "metadata": {},
   "outputs": [
    {
     "name": "stdout",
     "output_type": "stream",
     "text": [
      "CPU times: user 55.8 s, sys: 330 ms, total: 56.1 s\n",
      "Wall time: 55.9 s\n"
     ]
    }
   ],
   "source": [
    "%time d['review_wc'] = d['reviewText'].apply(lambda x : word_count(x))"
   ]
  },
  {
   "cell_type": "code",
   "execution_count": 21,
   "metadata": {},
   "outputs": [
    {
     "name": "stdout",
     "output_type": "stream",
     "text": [
      "CPU times: user 19.1 s, sys: 77.1 ms, total: 19.2 s\n",
      "Wall time: 18.4 s\n"
     ]
    }
   ],
   "source": [
    "%time d['summary_wc'] = d['summary'].apply(lambda x : word_count(x))"
   ]
  },
  {
   "cell_type": "code",
   "execution_count": 22,
   "metadata": {},
   "outputs": [
    {
     "name": "stdout",
     "output_type": "stream",
     "text": [
      "CPU times: user 19.9 s, sys: 47.8 ms, total: 20 s\n",
      "Wall time: 19.1 s\n"
     ]
    }
   ],
   "source": [
    "%time d['title_wc'] = d['title'].apply(lambda x : word_count(x))"
   ]
  },
  {
   "cell_type": "code",
   "execution_count": 23,
   "metadata": {},
   "outputs": [
    {
     "name": "stdout",
     "output_type": "stream",
     "text": [
      "CPU times: user 44.9 s, sys: 42 ms, total: 44.9 s\n",
      "Wall time: 44 s\n"
     ]
    }
   ],
   "source": [
    "%time d['description_count'] = d['description'].apply(lambda x : [word_count(x[0]) if len(x) > 0 else np.nan][0])"
   ]
  },
  {
   "cell_type": "code",
   "execution_count": 24,
   "metadata": {},
   "outputs": [],
   "source": [
    "def similar_item_present(x):\n",
    "    '''\n",
    "    This function will identify if the value passed (associated to the similar_item column)\n",
    "    is not empty.\n",
    "    If it is empty, it will return 0, else 1\n",
    "    '''\n",
    "    if (x != x) | (x == '') | (x is None): #checks for nan, empty str, and nones\n",
    "        return 0\n",
    "    return 1"
   ]
  },
  {
   "cell_type": "code",
   "execution_count": 25,
   "metadata": {},
   "outputs": [
    {
     "name": "stdout",
     "output_type": "stream",
     "text": [
      "CPU times: user 1.83 s, sys: 25.3 ms, total: 1.85 s\n",
      "Wall time: 973 ms\n"
     ]
    }
   ],
   "source": [
    "%time d['similar_item_present'] = d['similar_item'].apply(lambda x : similar_item_present(x))"
   ]
  },
  {
   "cell_type": "code",
   "execution_count": 26,
   "metadata": {},
   "outputs": [
    {
     "name": "stdout",
     "output_type": "stream",
     "text": [
      "CPU times: user 1.59 s, sys: 25 ms, total: 1.61 s\n",
      "Wall time: 738 ms\n"
     ]
    }
   ],
   "source": [
    "%time d['recommended_item_counts'] = d['also_view'].apply(lambda x : len(x))"
   ]
  },
  {
   "cell_type": "code",
   "execution_count": 27,
   "metadata": {},
   "outputs": [],
   "source": [
    "def parse_main_cat(x):\n",
    "    '''\n",
    "    This function will parse the main category values through lowering all letters and removing special charactres,\n",
    "    if there is no value present then it will return a np.nan\n",
    "    '''\n",
    "    x = str(x)\n",
    "    if (x != x) | (x is None) | (x == ''):\n",
    "        return np.nan\n",
    "    else:\n",
    "        if 'amp' in x:\n",
    "            x = x.replace('amp', '')\n",
    "        x = x.translate(str.maketrans('', '', string.punctuation)) # removes punctuation\n",
    "        x = x.lower()\n",
    "        \n",
    "        if 'amazon fashion' in x:\n",
    "            return 'amazon fashion'\n",
    "        if 'digital music' in x:\n",
    "            return 'digial music'\n",
    "        return x"
   ]
  },
  {
   "cell_type": "code",
   "execution_count": 28,
   "metadata": {},
   "outputs": [
    {
     "name": "stdout",
     "output_type": "stream",
     "text": [
      "CPU times: user 7.88 s, sys: 27.9 ms, total: 7.9 s\n",
      "Wall time: 7.07 s\n"
     ]
    }
   ],
   "source": [
    "%time d['main_cat'] = d['main_cat'].apply(lambda x :parse_main_cat(x))"
   ]
  },
  {
   "cell_type": "code",
   "execution_count": 29,
   "metadata": {},
   "outputs": [
    {
     "name": "stdout",
     "output_type": "stream",
     "text": [
      "CPU times: user 755 ms, sys: 18.4 ms, total: 773 ms\n",
      "Wall time: 752 ms\n"
     ]
    }
   ],
   "source": [
    "%time d['count_also_bought'] = d['also_buy'].apply(lambda x : len(x))"
   ]
  },
  {
   "cell_type": "code",
   "execution_count": 30,
   "metadata": {},
   "outputs": [],
   "source": [
    "def parse_price(x):\n",
    "    '''\n",
    "    This function will parse the price from the input string\n",
    "    '''\n",
    "    x = str(x)\n",
    "    if (x != x) | (x is None) | (x == ''):\n",
    "        return np.nan\n",
    "    \n",
    "    price = re.findall(r'\\d+(?:\\.\\d+)?', x)\n",
    "    if len(price) > 0:\n",
    "        return float(price[0])\n",
    "    else:\n",
    "        return np.nan\n",
    "    "
   ]
  },
  {
   "cell_type": "code",
   "execution_count": 31,
   "metadata": {},
   "outputs": [
    {
     "name": "stdout",
     "output_type": "stream",
     "text": [
      "CPU times: user 14.9 s, sys: 248 ms, total: 15.1 s\n",
      "Wall time: 13.3 s\n"
     ]
    }
   ],
   "source": [
    "%time d['price'] = d['price'].apply(lambda x : parse_price(x))"
   ]
  },
  {
   "cell_type": "code",
   "execution_count": 32,
   "metadata": {},
   "outputs": [],
   "source": [
    "def get_year(x):\n",
    "    '''\n",
    "    If there is a date present, it will return the year associated to that date\n",
    "    '''\n",
    "    \n",
    "    if (x != x) | (x is None) | (x == ''):\n",
    "        return np.nan\n",
    "    \n",
    "    year = x.split(',')[-1]\n",
    "    try:\n",
    "        year = int(year)\n",
    "        return year\n",
    "    except:\n",
    "        return np.nan"
   ]
  },
  {
   "cell_type": "code",
   "execution_count": 33,
   "metadata": {},
   "outputs": [
    {
     "name": "stdout",
     "output_type": "stream",
     "text": [
      "CPU times: user 1.01 s, sys: 19.9 ms, total: 1.03 s\n",
      "Wall time: 1.01 s\n"
     ]
    }
   ],
   "source": [
    "%time d['year'] = d['date'].apply(lambda x : get_year(x))"
   ]
  },
  {
   "cell_type": "code",
   "execution_count": 34,
   "metadata": {},
   "outputs": [
    {
     "name": "stdout",
     "output_type": "stream",
     "text": [
      "CPU times: user 1.83 s, sys: 25.5 ms, total: 1.86 s\n",
      "Wall time: 949 ms\n"
     ]
    }
   ],
   "source": [
    "%time d['image_present'] = d['image_meta'].apply(lambda x : [1 if len(x) > 0 else 0][0])"
   ]
  },
  {
   "cell_type": "code",
   "execution_count": 35,
   "metadata": {},
   "outputs": [],
   "source": [
    "def parse_rank(x):\n",
    "    '''\n",
    "    Given a list of strings which represent the rank associated to the product across multiple\n",
    "    categories, this function will parse the best (minimum) rank associated to the product\n",
    "    '''\n",
    "    \n",
    "    if len(x) == 0:\n",
    "        return np.nan\n",
    "    \n",
    "    ranks = []\n",
    "    for r_str in x:\n",
    "        r_str = r_str.replace(',', '')\n",
    "        r = re.findall(r'\\d+', r_str)\n",
    "        if len(r) > 0:\n",
    "            ranks.append(r[0])\n",
    "        else:\n",
    "            return np.nan\n",
    "    return max(ranks)"
   ]
  },
  {
   "cell_type": "code",
   "execution_count": 36,
   "metadata": {},
   "outputs": [
    {
     "name": "stdout",
     "output_type": "stream",
     "text": [
      "CPU times: user 18.5 s, sys: 23 ms, total: 18.5 s\n",
      "Wall time: 17.7 s\n"
     ]
    }
   ],
   "source": [
    "%time d['best_rank'] = d['rank'].apply(lambda x : parse_rank(x))"
   ]
  },
  {
   "cell_type": "markdown",
   "metadata": {},
   "source": [
    "## Save Results"
   ]
  },
  {
   "cell_type": "code",
   "execution_count": 38,
   "metadata": {},
   "outputs": [],
   "source": [
    "d.to_csv(\n",
    "    base_path + 'Downloads/video_game_data_preprocessed.csv', \n",
    "    index = False\n",
    ")"
   ]
  },
  {
   "cell_type": "code",
   "execution_count": null,
   "metadata": {},
   "outputs": [],
   "source": []
  }
 ],
 "metadata": {
  "kernelspec": {
   "display_name": "Python 3",
   "language": "python",
   "name": "python3"
  },
  "language_info": {
   "codemirror_mode": {
    "name": "ipython",
    "version": 3
   },
   "file_extension": ".py",
   "mimetype": "text/x-python",
   "name": "python",
   "nbconvert_exporter": "python",
   "pygments_lexer": "ipython3",
   "version": "3.7.4"
  }
 },
 "nbformat": 4,
 "nbformat_minor": 4
}
